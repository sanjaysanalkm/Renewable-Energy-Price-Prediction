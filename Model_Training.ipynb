{
 "cells": [
  {
   "cell_type": "markdown",
   "id": "6907bdb7-ae31-402a-a7db-699c4c51278e",
   "metadata": {},
   "source": [
    "### Importing Package"
   ]
  },
  {
   "cell_type": "code",
   "execution_count": 1,
   "id": "9ede8c63-7582-4d4e-b024-f9f5fef72bb4",
   "metadata": {},
   "outputs": [],
   "source": [
    "import pandas as pd\n",
    "import numpy as np\n",
    "import matplotlib.pyplot as plt\n",
    "%matplotlib inline"
   ]
  },
  {
   "cell_type": "markdown",
   "id": "1d65a548-16ae-4fe9-b963-f0a832a9f60b",
   "metadata": {},
   "source": [
    "### Importing Packages for pre-processing and evaluation"
   ]
  },
  {
   "cell_type": "code",
   "execution_count": 4,
   "id": "d192dd04-32f3-4d1a-9a85-e7ffb1b8ae91",
   "metadata": {},
   "outputs": [],
   "source": [
    "from sklearn.preprocessing import StandardScaler\n",
    "from sklearn.preprocessing import MinMaxScaler"
   ]
  },
  {
   "cell_type": "markdown",
   "id": "97053af5-a17c-4fac-8337-ebed9a28ae03",
   "metadata": {},
   "source": [
    "### Importing Packages for Model Training"
   ]
  },
  {
   "cell_type": "code",
   "execution_count": 6,
   "id": "f255eb5f-baea-43ba-bb3e-b09e88c19d0b",
   "metadata": {},
   "outputs": [],
   "source": [
    "from sklearn.linear_model import LinearRegression\n",
    "from sklearn.svm import SVR\n",
    "from sklearn.tree import DecisionTreeRegressor\n",
    "from sklearn.ensemble import RandomForestRegressor\n",
    "from sklearn.model_selection import train_test_split\n",
    "import joblib"
   ]
  },
  {
   "cell_type": "code",
   "execution_count": 7,
   "id": "fe7be535-e5e6-47ea-b27b-c4d40a7843c7",
   "metadata": {},
   "outputs": [],
   "source": [
    "input_path = r'C:/Users/sanja/Desktop/Personal Projects/Renewable Energy Forecast/training_data/'\n",
    "output_path = r'C:/Users/sanja/Desktop/Personal Projects/Renewable Energy Forecast/trained_models/'"
   ]
  },
  {
   "cell_type": "markdown",
   "id": "3ed05542-55d9-4d9a-a9aa-8ad4fd426f72",
   "metadata": {},
   "source": [
    "### Reading Data"
   ]
  },
  {
   "cell_type": "code",
   "execution_count": 9,
   "id": "6cc95542-0456-4e56-bfe3-e96904d8ca27",
   "metadata": {},
   "outputs": [],
   "source": [
    "d = pd.read_csv(input_path+'R_solar_data.csv')\n",
    "d = d.astype('float')"
   ]
  },
  {
   "cell_type": "code",
   "execution_count": 10,
   "id": "373dcdb7-a1b8-46fe-867d-9d3313c72ebb",
   "metadata": {},
   "outputs": [
    {
     "data": {
      "text/html": [
       "<div>\n",
       "<style scoped>\n",
       "    .dataframe tbody tr th:only-of-type {\n",
       "        vertical-align: middle;\n",
       "    }\n",
       "\n",
       "    .dataframe tbody tr th {\n",
       "        vertical-align: top;\n",
       "    }\n",
       "\n",
       "    .dataframe thead th {\n",
       "        text-align: right;\n",
       "    }\n",
       "</style>\n",
       "<table border=\"1\" class=\"dataframe\">\n",
       "  <thead>\n",
       "    <tr style=\"text-align: right;\">\n",
       "      <th></th>\n",
       "      <th>GHI</th>\n",
       "      <th>Gen</th>\n",
       "    </tr>\n",
       "  </thead>\n",
       "  <tbody>\n",
       "    <tr>\n",
       "      <th>0</th>\n",
       "      <td>0.000000</td>\n",
       "      <td>0.013500</td>\n",
       "    </tr>\n",
       "    <tr>\n",
       "      <th>1</th>\n",
       "      <td>1.566579</td>\n",
       "      <td>0.111463</td>\n",
       "    </tr>\n",
       "    <tr>\n",
       "      <th>2</th>\n",
       "      <td>14.724596</td>\n",
       "      <td>1.429013</td>\n",
       "    </tr>\n",
       "    <tr>\n",
       "      <th>3</th>\n",
       "      <td>33.796818</td>\n",
       "      <td>6.155991</td>\n",
       "    </tr>\n",
       "    <tr>\n",
       "      <th>4</th>\n",
       "      <td>81.715012</td>\n",
       "      <td>14.120696</td>\n",
       "    </tr>\n",
       "  </tbody>\n",
       "</table>\n",
       "</div>"
      ],
      "text/plain": [
       "         GHI        Gen\n",
       "0   0.000000   0.013500\n",
       "1   1.566579   0.111463\n",
       "2  14.724596   1.429013\n",
       "3  33.796818   6.155991\n",
       "4  81.715012  14.120696"
      ]
     },
     "execution_count": 10,
     "metadata": {},
     "output_type": "execute_result"
    }
   ],
   "source": [
    "d.head()"
   ]
  },
  {
   "cell_type": "code",
   "execution_count": 11,
   "id": "52fa9071-e061-4d55-8448-66cc44e7ae47",
   "metadata": {},
   "outputs": [
    {
     "name": "stdout",
     "output_type": "stream",
     "text": [
      "<class 'pandas.core.frame.DataFrame'>\n",
      "RangeIndex: 1742 entries, 0 to 1741\n",
      "Data columns (total 2 columns):\n",
      " #   Column  Non-Null Count  Dtype  \n",
      "---  ------  --------------  -----  \n",
      " 0   GHI     1742 non-null   float64\n",
      " 1   Gen     1742 non-null   float64\n",
      "dtypes: float64(2)\n",
      "memory usage: 27.3 KB\n"
     ]
    }
   ],
   "source": [
    "d.info()"
   ]
  },
  {
   "cell_type": "code",
   "execution_count": 13,
   "id": "160ee390-e285-43ff-8139-0748798144bf",
   "metadata": {},
   "outputs": [],
   "source": [
    "x =  d.drop('Gen', axis=1)\n",
    "y = d['Gen']"
   ]
  },
  {
   "cell_type": "code",
   "execution_count": 14,
   "id": "62356439-350f-4662-b3dd-577cacbab6a8",
   "metadata": {},
   "outputs": [
    {
     "data": {
      "text/html": [
       "<div>\n",
       "<style scoped>\n",
       "    .dataframe tbody tr th:only-of-type {\n",
       "        vertical-align: middle;\n",
       "    }\n",
       "\n",
       "    .dataframe tbody tr th {\n",
       "        vertical-align: top;\n",
       "    }\n",
       "\n",
       "    .dataframe thead th {\n",
       "        text-align: right;\n",
       "    }\n",
       "</style>\n",
       "<table border=\"1\" class=\"dataframe\">\n",
       "  <thead>\n",
       "    <tr style=\"text-align: right;\">\n",
       "      <th></th>\n",
       "      <th>GHI</th>\n",
       "    </tr>\n",
       "  </thead>\n",
       "  <tbody>\n",
       "    <tr>\n",
       "      <th>0</th>\n",
       "      <td>0.000000</td>\n",
       "    </tr>\n",
       "    <tr>\n",
       "      <th>1</th>\n",
       "      <td>1.566579</td>\n",
       "    </tr>\n",
       "    <tr>\n",
       "      <th>2</th>\n",
       "      <td>14.724596</td>\n",
       "    </tr>\n",
       "    <tr>\n",
       "      <th>3</th>\n",
       "      <td>33.796818</td>\n",
       "    </tr>\n",
       "    <tr>\n",
       "      <th>4</th>\n",
       "      <td>81.715012</td>\n",
       "    </tr>\n",
       "  </tbody>\n",
       "</table>\n",
       "</div>"
      ],
      "text/plain": [
       "         GHI\n",
       "0   0.000000\n",
       "1   1.566579\n",
       "2  14.724596\n",
       "3  33.796818\n",
       "4  81.715012"
      ]
     },
     "execution_count": 14,
     "metadata": {},
     "output_type": "execute_result"
    }
   ],
   "source": [
    "x.head()"
   ]
  },
  {
   "cell_type": "code",
   "execution_count": 15,
   "id": "028f82d1-371b-4eb3-9c9a-6a322cc26a03",
   "metadata": {},
   "outputs": [
    {
     "data": {
      "text/plain": [
       "0     0.013500\n",
       "1     0.111463\n",
       "2     1.429013\n",
       "3     6.155991\n",
       "4    14.120696\n",
       "Name: Gen, dtype: float64"
      ]
     },
     "execution_count": 15,
     "metadata": {},
     "output_type": "execute_result"
    }
   ],
   "source": [
    "y.head()"
   ]
  },
  {
   "cell_type": "markdown",
   "id": "1cd88533-2c07-47f1-98d2-59fc3526d487",
   "metadata": {},
   "source": [
    "### Train_Test Split"
   ]
  },
  {
   "cell_type": "code",
   "execution_count": 16,
   "id": "90176b9a-c1c3-4966-9a2a-e9935d8b37fa",
   "metadata": {},
   "outputs": [
    {
     "name": "stdout",
     "output_type": "stream",
     "text": [
      "(1567, 1) (1567,)\n",
      "(175, 1) (175,)\n"
     ]
    }
   ],
   "source": [
    "train_input, test_input, train_output, test_output = train_test_split(x, y, test_size= 0.1, random_state=1)\n",
    "print (train_input.shape, train_output.shape)\n",
    "print (test_input.shape, test_output.shape)"
   ]
  },
  {
   "cell_type": "markdown",
   "id": "72ef1a07-f8c8-4b81-a910-89e158944783",
   "metadata": {},
   "source": [
    "### Model Training with Random Forest Regressor"
   ]
  },
  {
   "cell_type": "code",
   "execution_count": 17,
   "id": "8abe4e81-723d-4f0d-9de6-c0451fbae897",
   "metadata": {},
   "outputs": [
    {
     "name": "stdout",
     "output_type": "stream",
     "text": [
      "random_forest_accuracy : 0.9573765823941134\n"
     ]
    }
   ],
   "source": [
    "random = RandomForestRegressor(n_estimators=100)\n",
    "random.fit(train_input, train_output)\n",
    "print ('random_forest_accuracy : {0}'.format(random.score(test_input, test_output)))\n",
    "predicted = random.predict(test_input)"
   ]
  },
  {
   "cell_type": "markdown",
   "id": "b50fddb5-c40b-45d4-9ee9-1a68669669ef",
   "metadata": {},
   "source": [
    "### Model Training with Support Vector Regressor"
   ]
  },
  {
   "cell_type": "code",
   "execution_count": 18,
   "id": "ff66e444-cbe7-4fbe-98ad-fc2f9a14a510",
   "metadata": {},
   "outputs": [
    {
     "name": "stdout",
     "output_type": "stream",
     "text": [
      "svm_accuracy : 0.24808409493033545\n"
     ]
    }
   ],
   "source": [
    "svm = SVR(gamma='auto')\n",
    "svm.fit(train_input, train_output)\n",
    "print ('svm_accuracy : {0}'.format(svm.score(test_input, test_output)))\n",
    "predicted = svm.predict(test_input)"
   ]
  },
  {
   "cell_type": "markdown",
   "id": "51b26e3f-7bb4-427e-b328-da49dcc5f202",
   "metadata": {},
   "source": [
    "### Model Training with Decision Tree Regressor"
   ]
  },
  {
   "cell_type": "code",
   "execution_count": 19,
   "id": "32a662fb-dd0a-4f27-99cb-fadd5181aefe",
   "metadata": {},
   "outputs": [
    {
     "name": "stdout",
     "output_type": "stream",
     "text": [
      "decision_tree_accuracy : 0.9388692290366767\n"
     ]
    }
   ],
   "source": [
    "dtree = DecisionTreeRegressor(random_state = 0)\n",
    "dtree.fit(train_input, train_output)\n",
    "print ('decision_tree_accuracy : {0}'.format(dtree.score(test_input, test_output)))\n",
    "predicted = dtree.predict(train_input)"
   ]
  },
  {
   "cell_type": "markdown",
   "id": "3df573b9-5fca-42f1-9226-7f62000bb433",
   "metadata": {},
   "source": [
    "### Model Training with Linear Regression"
   ]
  },
  {
   "cell_type": "code",
   "execution_count": 20,
   "id": "288bde9d-5972-4517-8daa-3d4c7a214ee3",
   "metadata": {},
   "outputs": [
    {
     "name": "stdout",
     "output_type": "stream",
     "text": [
      "linear_regression_accuracy : 0.9620626148893596\n"
     ]
    }
   ],
   "source": [
    "linear = LinearRegression()\n",
    "linear.fit(train_input, train_output)\n",
    "print ('linear_regression_accuracy : {0}'.format(linear.score(test_input, test_output)))\n",
    "predicted = linear.predict(test_input)"
   ]
  },
  {
   "cell_type": "markdown",
   "id": "074c4907-eaf1-42a2-bd62-3fefbbd7f1f5",
   "metadata": {},
   "source": [
    "### Model Comparison"
   ]
  },
  {
   "cell_type": "code",
   "execution_count": 27,
   "id": "c7f9c218-df36-4ca5-9bc9-3e9f34f64e8e",
   "metadata": {},
   "outputs": [
    {
     "data": {
      "text/html": [
       "<div>\n",
       "<style scoped>\n",
       "    .dataframe tbody tr th:only-of-type {\n",
       "        vertical-align: middle;\n",
       "    }\n",
       "\n",
       "    .dataframe tbody tr th {\n",
       "        vertical-align: top;\n",
       "    }\n",
       "\n",
       "    .dataframe thead th {\n",
       "        text-align: right;\n",
       "    }\n",
       "</style>\n",
       "<table border=\"1\" class=\"dataframe\">\n",
       "  <thead>\n",
       "    <tr style=\"text-align: right;\">\n",
       "      <th></th>\n",
       "      <th>Model</th>\n",
       "      <th>Accuracy</th>\n",
       "    </tr>\n",
       "  </thead>\n",
       "  <tbody>\n",
       "    <tr>\n",
       "      <th>0</th>\n",
       "      <td>Linear Regression</td>\n",
       "      <td>0.962063</td>\n",
       "    </tr>\n",
       "    <tr>\n",
       "      <th>1</th>\n",
       "      <td>Random Forest</td>\n",
       "      <td>0.957377</td>\n",
       "    </tr>\n",
       "    <tr>\n",
       "      <th>2</th>\n",
       "      <td>Decision Tree</td>\n",
       "      <td>0.938869</td>\n",
       "    </tr>\n",
       "    <tr>\n",
       "      <th>3</th>\n",
       "      <td>SVR</td>\n",
       "      <td>0.248084</td>\n",
       "    </tr>\n",
       "  </tbody>\n",
       "</table>\n",
       "</div>"
      ],
      "text/plain": [
       "               Model  Accuracy\n",
       "0  Linear Regression  0.962063\n",
       "1      Random Forest  0.957377\n",
       "2      Decision Tree  0.938869\n",
       "3                SVR  0.248084"
      ]
     },
     "execution_count": 27,
     "metadata": {},
     "output_type": "execute_result"
    }
   ],
   "source": [
    "models = ['Random Forest', 'SVR', 'Decision Tree', 'Linear Regression']\n",
    "accuracies = [random.score(test_input, test_output), svm.score(test_input, test_output), dtree.score(test_input, test_output), linear.score(test_input, test_output)]\n",
    "\n",
    "accuracy_df = pd.DataFrame({'Model': models, 'Accuracy': accuracies})\n",
    "accuracy_df = accuracy_df.sort_values(by='Accuracy', ascending=False).reset_index(drop=True)\n",
    "accuracy_df"
   ]
  },
  {
   "cell_type": "markdown",
   "id": "2bcc2d62-2842-41ff-85aa-204eb3e2eedd",
   "metadata": {},
   "source": [
    "### Saving Best Performing Model in a Pickle file"
   ]
  },
  {
   "cell_type": "code",
   "execution_count": 29,
   "id": "df525aad-442f-410f-a6e1-8b92e71cb06a",
   "metadata": {},
   "outputs": [
    {
     "data": {
      "text/plain": [
       "['C:/Users/sanja/Desktop/Personal Projects/Renewable Energy Forecast/trained_models/R_model.pkl']"
      ]
     },
     "execution_count": 29,
     "metadata": {},
     "output_type": "execute_result"
    }
   ],
   "source": [
    "joblib.dump(linear, output_path+'R_model.pkl')"
   ]
  },
  {
   "cell_type": "code",
   "execution_count": null,
   "id": "89b277d9-f4ed-4e32-89fe-d91f6bb6e865",
   "metadata": {},
   "outputs": [],
   "source": []
  }
 ],
 "metadata": {
  "kernelspec": {
   "display_name": "Python 3 (ipykernel)",
   "language": "python",
   "name": "python3"
  },
  "language_info": {
   "codemirror_mode": {
    "name": "ipython",
    "version": 3
   },
   "file_extension": ".py",
   "mimetype": "text/x-python",
   "name": "python",
   "nbconvert_exporter": "python",
   "pygments_lexer": "ipython3",
   "version": "3.12.2"
  }
 },
 "nbformat": 4,
 "nbformat_minor": 5
}
