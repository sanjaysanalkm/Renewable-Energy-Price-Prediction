{
 "cells": [
  {
   "cell_type": "markdown",
   "id": "96d304c9-ffd4-4625-8d91-314f3b096e3c",
   "metadata": {},
   "source": [
    "### Importing Packages"
   ]
  },
  {
   "cell_type": "code",
   "execution_count": 21,
   "id": "216645d2-f48d-4b4e-aee3-0d1e8bcf265e",
   "metadata": {},
   "outputs": [],
   "source": [
    "import pandas as pd\n",
    "import numpy as np\n",
    "import seaborn as sns\n",
    "import matplotlib.pyplot as plt\n",
    "%matplotlib inline"
   ]
  },
  {
   "cell_type": "markdown",
   "id": "13b9ef5d-946f-4607-9833-dce985bb1ea0",
   "metadata": {},
   "source": [
    "### Reading File"
   ]
  },
  {
   "cell_type": "code",
   "execution_count": 10,
   "id": "9548ed0d-7ae2-4fee-a0fd-e47bc03ed517",
   "metadata": {},
   "outputs": [],
   "source": [
    "input_path = r'C:/Users/sanja/Desktop/Personal Projects/Renewable Energy Forecast/training_data/'"
   ]
  },
  {
   "cell_type": "code",
   "execution_count": 11,
   "id": "cfb106a5-422c-482f-8d42-1b52b386e9b0",
   "metadata": {},
   "outputs": [],
   "source": [
    "d = pd.read_csv(input_path+'sample_data.csv')"
   ]
  },
  {
   "cell_type": "markdown",
   "id": "113631f8-af28-447c-a583-a8645ab6cd7b",
   "metadata": {},
   "source": [
    "### Data Analysis"
   ]
  },
  {
   "cell_type": "code",
   "execution_count": 13,
   "id": "a22ba191-5135-4007-a85b-51062c3153e4",
   "metadata": {},
   "outputs": [
    {
     "data": {
      "text/html": [
       "<div>\n",
       "<style scoped>\n",
       "    .dataframe tbody tr th:only-of-type {\n",
       "        vertical-align: middle;\n",
       "    }\n",
       "\n",
       "    .dataframe tbody tr th {\n",
       "        vertical-align: top;\n",
       "    }\n",
       "\n",
       "    .dataframe thead th {\n",
       "        text-align: right;\n",
       "    }\n",
       "</style>\n",
       "<table border=\"1\" class=\"dataframe\">\n",
       "  <thead>\n",
       "    <tr style=\"text-align: right;\">\n",
       "      <th></th>\n",
       "      <th>GHI</th>\n",
       "      <th>Temperature</th>\n",
       "      <th>Wind_speed</th>\n",
       "      <th>Generation</th>\n",
       "    </tr>\n",
       "  </thead>\n",
       "  <tbody>\n",
       "    <tr>\n",
       "      <th>0</th>\n",
       "      <td>0.0</td>\n",
       "      <td>16.2226</td>\n",
       "      <td>1.45655</td>\n",
       "      <td>0.00</td>\n",
       "    </tr>\n",
       "    <tr>\n",
       "      <th>1</th>\n",
       "      <td>0.0</td>\n",
       "      <td>18.6868</td>\n",
       "      <td>1.31287</td>\n",
       "      <td>0.00</td>\n",
       "    </tr>\n",
       "    <tr>\n",
       "      <th>2</th>\n",
       "      <td>0.0</td>\n",
       "      <td>18.4972</td>\n",
       "      <td>1.46320</td>\n",
       "      <td>0.00</td>\n",
       "    </tr>\n",
       "    <tr>\n",
       "      <th>3</th>\n",
       "      <td>10.0</td>\n",
       "      <td>18.3232</td>\n",
       "      <td>1.74765</td>\n",
       "      <td>3.28</td>\n",
       "    </tr>\n",
       "    <tr>\n",
       "      <th>4</th>\n",
       "      <td>13.5</td>\n",
       "      <td>18.1806</td>\n",
       "      <td>1.83621</td>\n",
       "      <td>3.28</td>\n",
       "    </tr>\n",
       "  </tbody>\n",
       "</table>\n",
       "</div>"
      ],
      "text/plain": [
       "    GHI  Temperature  Wind_speed  Generation\n",
       "0   0.0      16.2226     1.45655        0.00\n",
       "1   0.0      18.6868     1.31287        0.00\n",
       "2   0.0      18.4972     1.46320        0.00\n",
       "3  10.0      18.3232     1.74765        3.28\n",
       "4  13.5      18.1806     1.83621        3.28"
      ]
     },
     "execution_count": 13,
     "metadata": {},
     "output_type": "execute_result"
    }
   ],
   "source": [
    "d.head()"
   ]
  },
  {
   "cell_type": "markdown",
   "id": "c92c9152-92d3-4660-a019-417676449fdd",
   "metadata": {},
   "source": [
    "- GHI refers to the amount of sunlight recieved per unit area that is measured on a horizontal surface"
   ]
  },
  {
   "cell_type": "code",
   "execution_count": 14,
   "id": "e4cc686e-fdeb-48dd-bb81-953b54510f29",
   "metadata": {},
   "outputs": [
    {
     "name": "stdout",
     "output_type": "stream",
     "text": [
      "<class 'pandas.core.frame.DataFrame'>\n",
      "RangeIndex: 97 entries, 0 to 96\n",
      "Data columns (total 4 columns):\n",
      " #   Column       Non-Null Count  Dtype  \n",
      "---  ------       --------------  -----  \n",
      " 0   GHI          97 non-null     float64\n",
      " 1   Temperature  97 non-null     float64\n",
      " 2   Wind_speed   97 non-null     float64\n",
      " 3   Generation   97 non-null     float64\n",
      "dtypes: float64(4)\n",
      "memory usage: 3.2 KB\n"
     ]
    }
   ],
   "source": [
    "d.info()"
   ]
  },
  {
   "cell_type": "code",
   "execution_count": 15,
   "id": "18d9ebbd-7b84-4b19-ad34-57538c5ebd1f",
   "metadata": {},
   "outputs": [
    {
     "data": {
      "text/html": [
       "<div>\n",
       "<style scoped>\n",
       "    .dataframe tbody tr th:only-of-type {\n",
       "        vertical-align: middle;\n",
       "    }\n",
       "\n",
       "    .dataframe tbody tr th {\n",
       "        vertical-align: top;\n",
       "    }\n",
       "\n",
       "    .dataframe thead th {\n",
       "        text-align: right;\n",
       "    }\n",
       "</style>\n",
       "<table border=\"1\" class=\"dataframe\">\n",
       "  <thead>\n",
       "    <tr style=\"text-align: right;\">\n",
       "      <th></th>\n",
       "      <th>GHI</th>\n",
       "      <th>Temperature</th>\n",
       "      <th>Wind_speed</th>\n",
       "      <th>Generation</th>\n",
       "    </tr>\n",
       "  </thead>\n",
       "  <tbody>\n",
       "    <tr>\n",
       "      <th>count</th>\n",
       "      <td>97.000000</td>\n",
       "      <td>97.000000</td>\n",
       "      <td>97.000000</td>\n",
       "      <td>97.000000</td>\n",
       "    </tr>\n",
       "    <tr>\n",
       "      <th>mean</th>\n",
       "      <td>180.820258</td>\n",
       "      <td>16.894658</td>\n",
       "      <td>4.865549</td>\n",
       "      <td>35.095464</td>\n",
       "    </tr>\n",
       "    <tr>\n",
       "      <th>std</th>\n",
       "      <td>244.984531</td>\n",
       "      <td>0.721748</td>\n",
       "      <td>1.776699</td>\n",
       "      <td>46.632900</td>\n",
       "    </tr>\n",
       "    <tr>\n",
       "      <th>min</th>\n",
       "      <td>0.000000</td>\n",
       "      <td>15.873900</td>\n",
       "      <td>0.824520</td>\n",
       "      <td>0.000000</td>\n",
       "    </tr>\n",
       "    <tr>\n",
       "      <th>25%</th>\n",
       "      <td>0.000000</td>\n",
       "      <td>16.170500</td>\n",
       "      <td>3.858680</td>\n",
       "      <td>0.000000</td>\n",
       "    </tr>\n",
       "    <tr>\n",
       "      <th>50%</th>\n",
       "      <td>0.000000</td>\n",
       "      <td>17.048200</td>\n",
       "      <td>5.338260</td>\n",
       "      <td>3.280000</td>\n",
       "    </tr>\n",
       "    <tr>\n",
       "      <th>75%</th>\n",
       "      <td>354.149000</td>\n",
       "      <td>17.326600</td>\n",
       "      <td>6.229720</td>\n",
       "      <td>68.880000</td>\n",
       "    </tr>\n",
       "    <tr>\n",
       "      <th>max</th>\n",
       "      <td>681.976000</td>\n",
       "      <td>18.686800</td>\n",
       "      <td>8.048320</td>\n",
       "      <td>129.600000</td>\n",
       "    </tr>\n",
       "  </tbody>\n",
       "</table>\n",
       "</div>"
      ],
      "text/plain": [
       "              GHI  Temperature  Wind_speed  Generation\n",
       "count   97.000000    97.000000   97.000000   97.000000\n",
       "mean   180.820258    16.894658    4.865549   35.095464\n",
       "std    244.984531     0.721748    1.776699   46.632900\n",
       "min      0.000000    15.873900    0.824520    0.000000\n",
       "25%      0.000000    16.170500    3.858680    0.000000\n",
       "50%      0.000000    17.048200    5.338260    3.280000\n",
       "75%    354.149000    17.326600    6.229720   68.880000\n",
       "max    681.976000    18.686800    8.048320  129.600000"
      ]
     },
     "execution_count": 15,
     "metadata": {},
     "output_type": "execute_result"
    }
   ],
   "source": [
    "d.describe()"
   ]
  },
  {
   "cell_type": "code",
   "execution_count": 16,
   "id": "10cc57bc-4992-436e-80b8-585ca02ab2ed",
   "metadata": {},
   "outputs": [
    {
     "data": {
      "text/html": [
       "<div>\n",
       "<style scoped>\n",
       "    .dataframe tbody tr th:only-of-type {\n",
       "        vertical-align: middle;\n",
       "    }\n",
       "\n",
       "    .dataframe tbody tr th {\n",
       "        vertical-align: top;\n",
       "    }\n",
       "\n",
       "    .dataframe thead th {\n",
       "        text-align: right;\n",
       "    }\n",
       "</style>\n",
       "<table border=\"1\" class=\"dataframe\">\n",
       "  <thead>\n",
       "    <tr style=\"text-align: right;\">\n",
       "      <th></th>\n",
       "      <th>GHI</th>\n",
       "      <th>Temperature</th>\n",
       "      <th>Wind_speed</th>\n",
       "      <th>Generation</th>\n",
       "    </tr>\n",
       "  </thead>\n",
       "  <tbody>\n",
       "    <tr>\n",
       "      <th>GHI</th>\n",
       "      <td>1.000000</td>\n",
       "      <td>-0.598727</td>\n",
       "      <td>-0.343285</td>\n",
       "      <td>0.981984</td>\n",
       "    </tr>\n",
       "    <tr>\n",
       "      <th>Temperature</th>\n",
       "      <td>-0.598727</td>\n",
       "      <td>1.000000</td>\n",
       "      <td>-0.270925</td>\n",
       "      <td>-0.686589</td>\n",
       "    </tr>\n",
       "    <tr>\n",
       "      <th>Wind_speed</th>\n",
       "      <td>-0.343285</td>\n",
       "      <td>-0.270925</td>\n",
       "      <td>1.000000</td>\n",
       "      <td>-0.249819</td>\n",
       "    </tr>\n",
       "    <tr>\n",
       "      <th>Generation</th>\n",
       "      <td>0.981984</td>\n",
       "      <td>-0.686589</td>\n",
       "      <td>-0.249819</td>\n",
       "      <td>1.000000</td>\n",
       "    </tr>\n",
       "  </tbody>\n",
       "</table>\n",
       "</div>"
      ],
      "text/plain": [
       "                  GHI  Temperature  Wind_speed  Generation\n",
       "GHI          1.000000    -0.598727   -0.343285    0.981984\n",
       "Temperature -0.598727     1.000000   -0.270925   -0.686589\n",
       "Wind_speed  -0.343285    -0.270925    1.000000   -0.249819\n",
       "Generation   0.981984    -0.686589   -0.249819    1.000000"
      ]
     },
     "execution_count": 16,
     "metadata": {},
     "output_type": "execute_result"
    }
   ],
   "source": [
    "d.corr()"
   ]
  },
  {
   "cell_type": "raw",
   "id": "96509c54-ba6b-4554-9f38-57a40e405664",
   "metadata": {},
   "source": [
    "It can be seen that the Temperature and Wind speed features are negatively correlating with the output Generation, which may lead to the poor training of the model. Hence, it is required to remove these features. "
   ]
  },
  {
   "cell_type": "code",
   "execution_count": 24,
   "id": "736977a3-2722-4ebc-942c-7ea04df6364a",
   "metadata": {},
   "outputs": [
    {
     "data": {
      "image/png": "[encoded data removed]",
      "text/plain": [
       "<Figure size 1000x600 with 1 Axes>"
      ]
     },
     "metadata": {},
     "output_type": "display_data"
    }
   ],
   "source": [
    "sns.set(style='whitegrid')\n",
    "\n",
    "plt.figure(figsize=(10, 6))\n",
    "\n",
    "data = d[['GHI', 'Temperature', 'Wind_speed', 'Generation']]\n",
    "colors = ['red', 'blue', 'green']\n",
    "\n",
    "# Loop through each variable and plot scatter\n",
    "for i, var in enumerate(data.columns[:-1]):\n",
    "    plt.scatter(data[var], data['Generation'], label=f'{var} vs Generation', color=colors[i], alpha=0.6)\n",
    "\n",
    "# Add labels and title\n",
    "plt.xlabel('Variables')\n",
    "plt.ylabel('Generation')\n",
    "plt.title('Scatter Plot: GHI, Temperature, Wind Speed vs Generation')\n",
    "plt.legend()\n",
    "\n",
    "# Show the plot\n",
    "plt.grid(True)\n",
    "plt.show()"
   ]
  },
  {
   "cell_type": "code",
   "execution_count": null,
   "id": "747dfd65-3ff8-4d1f-b478-dd984e34c17c",
   "metadata": {},
   "outputs": [],
   "source": []
  }
 ],
 "metadata": {
  "kernelspec": {
   "display_name": "Python 3 (ipykernel)",
   "language": "python",
   "name": "python3"
  },
  "language_info": {
   "codemirror_mode": {
    "name": "ipython",
    "version": 3
   },
   "file_extension": ".py",
   "mimetype": "text/x-python",
   "name": "python",
   "nbconvert_exporter": "python",
   "pygments_lexer": "ipython3",
   "version": "3.12.2"
  }
 },
 "nbformat": 4,
 "nbformat_minor": 5
}
